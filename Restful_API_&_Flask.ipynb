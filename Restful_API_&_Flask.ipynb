{
  "cells": [
    {
      "cell_type": "markdown",
      "metadata": {
        "id": "xu-BVKj3pOqv"
      },
      "source": [
        "# THEORITICAL"
      ]
    },
    {
      "cell_type": "markdown",
      "metadata": {
        "id": "xs35a6KYpS4o"
      },
      "source": [
        "**1. What is a RESTful API?**\n",
        "\n",
        "Ans: A RESTful API (Representational State Transfer API) is a type of web service that follows the principles and constraints of REST architecture. It allows different software systems to communicate over the internet using HTTP requests. RESTful APIs are wideely used for building web services that are scalable, stateless and easy to integrate."
      ]
    },
    {
      "cell_type": "markdown",
      "metadata": {
        "id": "9V7jfUEtpZfg"
      },
      "source": [
        "**2. Explain the concept of API specification.**\n",
        "\n",
        "Ans: An API specification is a detailed structured description of how an API behaves and how it should be used. It serves as a contract between the API provider and the API consumer (developer), defining the endpoints, data formats, methods, request/response structure and authentication requirement:\n",
        "* Endpoints\n",
        "* HTTP Methods\n",
        "* Request Parameter\n",
        "* Request and Response Formats\n",
        "* Response Codes\n",
        "* Authentication/ Authorization\n",
        "* Data Models/ Schemes\n"
      ]
    },
    {
      "cell_type": "markdown",
      "metadata": {
        "id": "G0OD4h3LplEC"
      },
      "source": [
        "**3. What is Flask, and why is it popular for building APIs?**\n",
        "\n",
        "Ans: Flask is a lightweight, Python-based web framework that's widely used for building web applications and RESTful APIs. It is known for its simplicity, flxibility and minimalism.\n",
        "\n",
        "Flask is popular for building APIs for the followings reasons:\n",
        "* Minimalist and LIghtweight\n",
        "* Quick and Easy to learn\n",
        "* Flexible and Unopinionated\n",
        "* Built-in Development Server\n",
        "* Large ecosystem\n",
        "* Good Integration with Other Tools"
      ]
    },
    {
      "cell_type": "markdown",
      "metadata": {
        "id": "Cyc64XMcppyp"
      },
      "source": [
        "**4. What is routing in Flask?**\n",
        "\n",
        "Ans: Routing in Flask is the process of associating URLs (routes) with functions (view functions) that handle request to those URLs.\n"
      ]
    },
    {
      "cell_type": "markdown",
      "metadata": {
        "id": "NQTknyz8pu4s"
      },
      "source": [
        "**5. How do you create a simple Flask application?**\n",
        "\n",
        "Ans: To create a simple Flask application step by step:\n",
        "* Install Flask\n",
        "* Create your Flask App file\n",
        "* Run the flask app"
      ]
    },
    {
      "cell_type": "markdown",
      "metadata": {
        "id": "iIMSdVbrp3Wy"
      },
      "source": [
        "**6. What are HTTP methods used in RESTful APIs?**\n",
        "\n",
        "Ans: In RESTful APIs, HTTP methods define the type of operation the client wants to perform on a resource (such as users, products, post, etc.). Each method has a specific purpose."
      ]
    },
    {
      "cell_type": "markdown",
      "metadata": {
        "id": "KJrJuY6ip8uH"
      },
      "source": [
        "**7. What is the purpose of the @app.route() decorator in Flask?**\n",
        "\n",
        "Ans: The purposes are follows:\n",
        "* It maps a specific URL (route) to a function that handles the request.\n",
        "* It allows you to define endpoints in your web application or API."
      ]
    },
    {
      "cell_type": "markdown",
      "metadata": {
        "id": "ShMt4X3TqBCJ"
      },
      "source": [
        "**8. What is the difference between GET and POST HTTP methods?**\n",
        "\n",
        "Ans: The main difference between GET and POST HTTP methods lies in how data is sent to the server and what they are used for."
      ]
    },
    {
      "cell_type": "markdown",
      "metadata": {
        "id": "S9SB5jeXqFFq"
      },
      "source": [
        "**9. How do you handle errors in Flask APIs?**\n",
        "\n",
        "Ans: Handling errors in Flask APIs ensures that your application returns clear, consistent and meaningful responses when something goes wrong. Flask provides multiple tools for catching and responding to errors gracefully.\n",
        "* Using abort() to trigger HTTP Errors\n",
        "* Custom Error Handlers (@app.errorhandler)\n",
        "* Try/Except Blocks for Manual Error Handling\n",
        "* Raise HTTP Exceptions with werkzeug"
      ]
    },
    {
      "cell_type": "markdown",
      "metadata": {
        "id": "Is5I-_K3qLEn"
      },
      "source": [
        "**10. How do you connect Flask to a SQL database?**\n",
        "\n",
        "Ans: To connect flask to a SQL database we need to follows the basic steps:\n",
        "* Connecting Flask to a SQL database is commonly done using an ORM (Object- Relational Mapper) like SQLAlchemy, which makes database interactions easier and more Pythonic.\n",
        "* Install Required Package\n",
        "* Set Up Flask and SQLAlchemy\n",
        "* Define Database Models\n",
        "* Create the Database and Tables\n",
        "* Use Models to Perform CRUD Operation."
      ]
    },
    {
      "cell_type": "markdown",
      "metadata": {
        "id": "6cyiLq5FqNR2"
      },
      "source": [
        "**11. What is the role of Flask-SQLAlchemy?**\n",
        "\n",
        "Ans: Flask-SQLAlchemy is an extension for Flask that simplifies the integration of SQL databases with Flask applications by providing a convenient and powerful Object-Relational Mapping (ORM) layer."
      ]
    },
    {
      "cell_type": "markdown",
      "metadata": {
        "id": "7BNoZhNYqO2L"
      },
      "source": [
        "**12. What are Flask blueprints, and how are they useful?**\n",
        "\n",
        "Ans: Flask Blueprints are a way to organize your Flask applications into smaller, reusable components or modules. They let you group routes, templates, static files and other code related to a specific feature or section of your app.\n"
      ]
    },
    {
      "cell_type": "markdown",
      "metadata": {
        "id": "KLY3wShVqQc5"
      },
      "source": [
        "**13. What is the purpose of Flask's request object?**\n",
        "\n",
        "Ans: The purpose of Flask's request objects are as follows:\n",
        "* Flask;s request object represents the incoming HTTP request that a client (like a browser or API consumer) sends to your Flask application.\n",
        "* Purpose of Flask's request Object.\n",
        "* It gives you access to all data sent by the client as part of the request.\n",
        "* You can retrieve from data, query parameters, headers, cookies, uploaded files and more.\n",
        "* It helps your app understand what the client wants and response accordingly."
      ]
    },
    {
      "cell_type": "markdown",
      "metadata": {
        "id": "0INnxWObqRRt"
      },
      "source": [
        "**14. How do you create a RESTful API endpoint using Flask?**\n",
        "\n",
        "Ans: Here’s how to create a RESTful API endpoint using Flask explained pointwise:\n",
        "* It involves a route that responds to HTTP methods (like GET, POST) and returns data-typically in JSON format.\n",
        "* Firstly, we need to import Flask, request and Jsonify from the Flask library.\n",
        "* Then, initialize your Flask app.\n",
        "* Then, define the API endpoint with appropriate HTTP methods.\n",
        "* And run the Flask app.\n"
      ]
    },
    {
      "cell_type": "markdown",
      "metadata": {
        "id": "UBb-P8ozqYeX"
      },
      "source": [
        "**15. What is the purpose of Flask's jsonify() function?**\n",
        "\n",
        "Ans: The purpose of Flask's jsonify() function is to convert Python data sructures (like dictionaries or lists) into a JSON-formatted HTTP response that can be sent back to the client."
      ]
    },
    {
      "cell_type": "markdown",
      "metadata": {
        "id": "H816Gi9fqZyb"
      },
      "source": [
        "**16. Explain Flask’s url_for() function.**\n",
        "\n",
        "Ans: Flask's url_for() function is used to generate URLs for your Flask routes dynamically based on the name of the view function (endpoint) instead of hardcording URLs."
      ]
    },
    {
      "cell_type": "markdown",
      "metadata": {
        "id": "EJiw_ujuqcOO"
      },
      "source": [
        "**17. How does Flask handle static files (CSS, JavaScript, etc.)?**\n",
        "\n",
        "And: Flask handle's static files through following ways:\n",
        "* By default, Flask excepts static files to be in a folder named static at the root of your project.\n",
        "* THese files are accessible via URLs starting with /static/.\n",
        "* For example, a file static/ style.css is served at/ static/ style.css."
      ]
    },
    {
      "cell_type": "markdown",
      "metadata": {
        "id": "bh1fm-zNqdIL"
      },
      "source": [
        "**18. What is an API specification, and how does it help in building a Flask API?**\n",
        "\n",
        "Ans: An API specification is a detailed document or blueprint that defines how an API should work.\n",
        "\n",
        "It help in building a Flask API by:\n",
        "* Clear Design Blueprint\n",
        "* Improves Communication\n",
        "* Speeds Up Development\n",
        "* Facilitates Testing and Validation\n",
        "* Enhances Documentation"
      ]
    },
    {
      "cell_type": "markdown",
      "metadata": {
        "id": "1sbsJJdUqesA"
      },
      "source": [
        "**19. What are HTTP status codes, and why are they important in a Flask API?**\n",
        "\n",
        "Ans: HTTP status codes are three-digit numbers sent by a server in response to a client’s request.\n",
        "They indicate whether the request was successful, failed, or requires further action.\n",
        "\n",
        "They are important in a Flask API because:\n",
        "* Status codes inform the client if the request succeeded or failed.\n",
        "* Client can handle different errors appropriately.\n",
        "* Developers using your API know exactly what happened without reading long responses.\n",
        "* Tools like Postman, Swagger, and CI/CD pipelines rely on status codes to validate API behavior."
      ]
    },
    {
      "cell_type": "markdown",
      "metadata": {
        "id": "rgdWKsg6qgxp"
      },
      "source": [
        "**20. How do you handle POST requests in Flask?**\n",
        "\n",
        "Ans: Steps to Handle POST Requests in Flask:\n",
        "* Import neccessary modules\n",
        "* Create your Flask app\n",
        "* Define a route that accepts POST requests\n",
        "* Run your app"
      ]
    },
    {
      "cell_type": "markdown",
      "metadata": {
        "id": "KnuaFVxZqijZ"
      },
      "source": [
        "**21. How would you secure a Flask API?**\n",
        "\n",
        "Ans: We can secure a Flask API by:\n",
        "* Use HTTPS\n",
        "* Authentication\n",
        "* Authorization\n",
        "* Input Validation and Sanitization\n",
        "* Enable Cross-Origin Resource Sharing (CORS) Carefully"
      ]
    },
    {
      "cell_type": "markdown",
      "metadata": {
        "id": "dOlvUKe-qjZd"
      },
      "source": [
        "**22. What is the significance of the Flask-RESTful extension?**\n",
        "\n",
        "Ans: The significance are as follows:\n",
        "* Simplifies Resource-Based API Design\n",
        "* Automatic Request Parsing and Validation\n",
        "* Built-in Response Formatting\n",
        "* Improved Routing\n",
        "* Error Handling and Abortion\n",
        "* Extensible and compatible"
      ]
    },
    {
      "cell_type": "markdown",
      "metadata": {
        "id": "_3sOKtPeqlhk"
      },
      "source": [
        "**23. What is the role of Flask’s session object?**\n",
        "\n",
        "Ans: The role of Flask's session objects are as follows:\n",
        "* It stores data on a per-user basis between requests (like cookies, but more secure).\n",
        "* It keeps user state without requiring server-side storage (data is stored client-side but signed to prevent tampering).\n",
        "\n"
      ]
    },
    {
      "cell_type": "markdown",
      "metadata": {
        "id": "23su0_RLsOyP"
      },
      "source": [
        "# PRACTICAL"
      ]
    },
    {
      "cell_type": "markdown",
      "metadata": {
        "id": "qFaM_DrUsTB_"
      },
      "source": [
        "**1.  How do you create a basic Flask application?**"
      ]
    },
    {
      "cell_type": "code",
      "execution_count": null,
      "metadata": {
        "colab": {
          "background_save": true,
          "base_uri": "https://localhost:8080/"
        },
        "id": "GCkSzu5cJoMo",
        "outputId": "e841c0f6-23e1-41ab-c376-996102beab64"
      },
      "outputs": [
        {
          "name": "stdout",
          "output_type": "stream",
          "text": [
            " * Serving Flask app '__main__'\n",
            " * Debug mode: off\n"
          ]
        },
        {
          "name": "stderr",
          "output_type": "stream",
          "text": [
            "INFO:werkzeug:\u001b[31m\u001b[1mWARNING: This is a development server. Do not use it in a production deployment. Use a production WSGI server instead.\u001b[0m\n",
            " * Running on http://127.0.0.1:5000\n",
            "INFO:werkzeug:\u001b[33mPress CTRL+C to quit\u001b[0m\n"
          ]
        }
      ],
      "source": [
        "from flask import Flask\n",
        "app = Flask(__name__)\n",
        "\n",
        "@app.route('/')\n",
        "def hello_world():\n",
        "    return 'Hello, World!'\n",
        "\n",
        "if __name__ == '__main__':\n",
        "    app.run(debug=True)"
      ]
    },
    {
      "cell_type": "markdown",
      "metadata": {
        "id": "Tz2FQzDUsWTc"
      },
      "source": [
        "**2. How do you serve static files like images or CSS in Flask?**"
      ]
    },
    {
      "cell_type": "code",
      "execution_count": null,
      "metadata": {
        "id": "rFuPo6bAKSdw"
      },
      "outputs": [],
      "source": [
        "import os\n",
        "\n",
        "os.makedirs('static', exist_ok=True)\n",
        "\n",
        "with open('static/style.css', 'w') as f:\n",
        "    f.write('body {background-color: lightblue;}')\n",
        "\n",
        "from flask import Flask, url_for\n",
        "\n",
        "app = Flask(__name__)\n",
        "\n",
        "@app.route('/')\n",
        "def home():\n",
        "    return '''\n",
        "    <html>\n",
        "    <head>\n",
        "        <link rel=\"stylesheet\" href=\"{}\">\n",
        "    </head>\n",
        "    <body>\n",
        "        <h1>Hello, styled Flask!</h1>\n",
        "    </body>\n",
        "    </html>\n",
        "    '''.format(url_for('static', filename='style.css'))\n",
        "\n",
        "if __name__ == '__main__':\n",
        "    app.run()\n"
      ]
    },
    {
      "cell_type": "markdown",
      "metadata": {
        "id": "A4X93Q98sc8s"
      },
      "source": [
        "**3. How do you define different routes with different HTTP methods in Flask?**"
      ]
    },
    {
      "cell_type": "code",
      "execution_count": null,
      "metadata": {
        "id": "XLvSxobkKaPK"
      },
      "outputs": [],
      "source": [
        "from flask import Flask, request\n",
        "\n",
        "app = Flask(__name__)\n",
        "\n",
        "@app.route('/')\n",
        "def home():\n",
        "    return \"This is a GET request\"\n",
        "\n",
        "@app.route('/submit', methods=['POST'])\n",
        "def submit():\n",
        "    data = request.form.get('data')\n",
        "    return f\"Received POST data: {data}\"\n",
        "\n",
        "\n",
        "@app.route('/both', methods=['GET', 'POST'])\n",
        "def both_methods():\n",
        "    if request.method == 'POST':\n",
        "        return \"POST request received\"\n",
        "    else:\n",
        "        return \"GET request received\"\n",
        "\n",
        "if __name__ == '__main__':\n",
        "    app.run(debug=True)\n"
      ]
    },
    {
      "cell_type": "markdown",
      "metadata": {
        "id": "wRxj7gmLsezl"
      },
      "source": [
        "**4. How do you render HTML templates in Flask?**"
      ]
    },
    {
      "cell_type": "code",
      "execution_count": null,
      "metadata": {
        "id": "5MK6Wo4WKhss"
      },
      "outputs": [],
      "source": [
        "from flask import flask, render_template_string\n",
        "app = Flask(__name__)\n",
        "\n",
        "@app.route('/')\n",
        "def home():\n",
        "    return render_template('index.html')\n",
        "\n",
        "@app.route(\"/about\")\n",
        "def about():\n",
        "    return render_template(\"about.html\")\n",
        "\n",
        "if __name__ == \"__main__\":\n",
        "    app.run(debug=True)\n",
        "\n",
        "\n",
        "# Template/index.html\n",
        "\n",
        "<!DOCTYPE html>\n",
        "<html>\n",
        "<head>\n",
        "<title>Flask Template</title>\n",
        "</head>\n",
        "<body>\n",
        "<h1>Hello, Flask!</h1>\n",
        "<p>This is a simple Flask template.</p>\n",
        "</body>\n",
        "</html>\n"
      ]
    },
    {
      "cell_type": "markdown",
      "metadata": {
        "id": "y6CX2ivOsisu"
      },
      "source": [
        "**5. How can you generate URLs for routes in Flask using url_for?**"
      ]
    },
    {
      "cell_type": "code",
      "execution_count": null,
      "metadata": {
        "id": "vpzRnaK9Lu5v"
      },
      "outputs": [],
      "source": [
        "from flask import Flask, url_for\n",
        "\n",
        "app = Flask(__name__)\n",
        "\n",
        "@app.route('/')\n",
        "def home():\n",
        "    return \"Home Page\"\n",
        "\n",
        "@app.route('/user/<username>')\n",
        "def profile(username):\n",
        "    return f\"User: {username}\"\n",
        "\n",
        "@app.route('/links')\n",
        "def links():\n",
        "    # Generate URLs dynamically\n",
        "    home_url = url_for('home')\n",
        "    profile_url = url_for('profile', username='alice')\n",
        "    return f'Home URL: {home_url} <br> Profile URL: {profile_url}'\n",
        "\n",
        "if __name__ == '__main__':\n",
        "    app.run(debug=True)\n"
      ]
    },
    {
      "cell_type": "markdown",
      "metadata": {
        "id": "s1ecIQsXslLw"
      },
      "source": [
        "**6. How do you handle forms in Flask?**"
      ]
    },
    {
      "cell_type": "code",
      "execution_count": null,
      "metadata": {
        "id": "1QqKnQZNLzA2"
      },
      "outputs": [],
      "source": [
        "from flask import Flask, render_template, request\n",
        "\n",
        "app = Flask(__name__)\n",
        "\n",
        "@app.route('/form', methods=['GET', 'POST'])\n",
        "def form():\n",
        "    if request.method == 'POST':\n",
        "        name = request.form['name']\n",
        "        email = request.form['email']\n",
        "        return f\"Received: Name={name}, Email={email}\"\n",
        "    return render_template('form.html')\n",
        "\n",
        "if __name__ == '__main__':\n",
        "    app.run(debug=True)\n"
      ]
    },
    {
      "cell_type": "markdown",
      "metadata": {
        "id": "We8bsIZssoC6"
      },
      "source": [
        "**7.  How can you validate form data in Flask?**"
      ]
    },
    {
      "cell_type": "code",
      "execution_count": null,
      "metadata": {
        "id": "aHjzSkU7L5En"
      },
      "outputs": [],
      "source": [
        "from flask import Flask, request, render_template\n",
        "\n",
        "app = Flask(__name__)\n",
        "\n",
        "@app.route('/form', methods=['GET', 'POST'])\n",
        "def form():\n",
        "    error = None\n",
        "    if request.method == 'POST':\n",
        "        name = request.form.get('name')\n",
        "        email = request.form.get('email')\n",
        "\n",
        "        if not name or not email:\n",
        "            error = \"Both name and email are required!\"\n",
        "        else:\n",
        "            return f\"Form submitted: Name = {name}, Email = {email}\"\n",
        "\n",
        "    return render_template('form.html', error=error)\n"
      ]
    },
    {
      "cell_type": "markdown",
      "metadata": {
        "id": "U5WHoPcostLN"
      },
      "source": [
        "**8. How do you manage sessions in Flask?**"
      ]
    },
    {
      "cell_type": "code",
      "execution_count": null,
      "metadata": {
        "id": "tCw7LUnjL3m0"
      },
      "outputs": [],
      "source": [
        "from flask import Flask, session, redirect, url_for, request\n",
        "\n",
        "app = Flask(__name__)\n",
        "app.secret_key = 'your_secret_key'  # Required to use sessions securely\n",
        "\n",
        "@app.route('/')\n",
        "def index():\n",
        "    if 'username' in session:\n",
        "        return f'Logged in as {session[\"username\"]}'\n",
        "    return 'You are not logged in.'\n",
        "\n",
        "@app.route('/login', methods=['GET', 'POST'])\n",
        "def login():\n",
        "    if request.method == 'POST':\n",
        "        session['username'] = request.form['username']\n",
        "        return redirect(url_for('index'))\n",
        "    return '''\n",
        "        <form method=\"post\">\n",
        "            <input type=\"text\" name=\"username\">\n",
        "            <input type=\"submit\" value=\"Login\">\n",
        "        </form>\n",
        "    '''\n",
        "\n",
        "@app.route('/logout')\n",
        "def logout():\n",
        "    session.pop('username', None)\n",
        "    return redirect(url_for('index'))\n",
        "\n",
        "if __name__ == '__main__':\n",
        "    app.run(debug=True)\n"
      ]
    },
    {
      "cell_type": "markdown",
      "metadata": {
        "id": "8HJZI8naswy7"
      },
      "source": [
        "**9. How do you redirect to a different route in Flask?**"
      ]
    },
    {
      "cell_type": "code",
      "execution_count": null,
      "metadata": {
        "id": "R0ZTv_IkME6c"
      },
      "outputs": [],
      "source": [
        "from flask import Flask, redirect, url_for\n",
        "\n",
        "app = Flask(__name__)\n",
        "\n",
        "@app.route('/')\n",
        "def home():\n",
        "    return 'Home Page'\n",
        "\n",
        "@app.route('/login')\n",
        "def login():\n",
        "    return 'Login Page'\n",
        "\n",
        "@app.route('/go-to-login')\n",
        "def go_to_login():\n",
        "    return redirect(url_for('login'))  # Redirects to /login\n",
        "\n",
        "if __name__ == '__main__':\n",
        "    app.run(debug=True)\n"
      ]
    },
    {
      "cell_type": "markdown",
      "metadata": {
        "id": "WfFWFKc3s081"
      },
      "source": [
        "**10.  How do you handle errors in Flask (e.g., 404)?**"
      ]
    },
    {
      "cell_type": "code",
      "source": [
        "from flask import Flask, render_template\n",
        "import os\n",
        "\n",
        "app = Flask(__name__)\n",
        "\n",
        "@app.route('/')\n",
        "def home():\n",
        "    return 'Welcome to the homepage!'\n",
        "\n",
        "# Handle 404 errors (Page Not Found)\n",
        "@app.errorhandler(404)\n",
        "def page_not_found(e):\n",
        "    # Ensure the templates directory exists\n",
        "    if not os.path.exists('templates'):\n",
        "        os.makedirs('templates')\n",
        "\n",
        "    # Create the 404.html file if it doesn't exist\n",
        "    if not os.path.exists('templates/404.html'):\n",
        "        with open('templates/404.html', 'w') as f:\n",
        "            f.write('''\n",
        "<!DOCTYPE html>\n",
        "<html>\n",
        "<head>\n",
        "<title>Page Not Found</title>\n",
        "</head>\n",
        "<body>\n",
        "    <h1>404 - Page Not Found</h1>\n",
        "    <p>Oops! The page you're looking for doesn't exist.</p>\n",
        "    <a href=\"{{ url_for('home') }}\">Go to Home</a>\n",
        "</body>\n",
        "</html>\n",
        "''')\n",
        "\n",
        "    return render_template('404.html'), 404\n",
        "\n",
        "if __name__ == '__main__':\n",
        "    app.run(debug=True)"
      ],
      "metadata": {
        "colab": {
          "base_uri": "https://localhost:8080/"
        },
        "id": "z4SVhOvvY3n-",
        "outputId": "53eb4b97-5a3a-458f-a80f-9d67005a4cb6"
      },
      "execution_count": null,
      "outputs": [
        {
          "output_type": "stream",
          "name": "stdout",
          "text": [
            " * Serving Flask app '__main__'\n",
            " * Debug mode: on\n"
          ]
        },
        {
          "output_type": "stream",
          "name": "stderr",
          "text": [
            "INFO:werkzeug:\u001b[31m\u001b[1mWARNING: This is a development server. Do not use it in a production deployment. Use a production WSGI server instead.\u001b[0m\n",
            " * Running on http://127.0.0.1:5000\n",
            "INFO:werkzeug:\u001b[33mPress CTRL+C to quit\u001b[0m\n",
            "INFO:werkzeug: * Restarting with watchdog (inotify)\n"
          ]
        }
      ]
    },
    {
      "cell_type": "markdown",
      "metadata": {
        "id": "MxAIzVw5s1D9"
      },
      "source": [
        "**11. How do you structure a Flask app using Blueprints?**"
      ]
    },
    {
      "cell_type": "code",
      "source": [
        "from flask import Blueprint, render_template\n",
        "\n",
        "auth_bp = Blueprint('auth', __name__, url_prefix='/auth')\n",
        "\n",
        "@auth_bp.route('/login')\n",
        "def login():\n",
        "    return render_template('login.html')\n",
        "from flask import Flask\n",
        "from auth.routes import auth_bp  # Import your blueprint\n",
        "\n",
        "app = Flask(__name__)\n",
        "app.secret_key = 'your_secret'\n",
        "\n",
        "# Register blueprint\n",
        "app.register_blueprint(auth_bp)\n",
        "\n",
        "@app.route('/')\n",
        "def home():\n",
        "    return \"Home Page\"\n",
        "\n",
        "if __name__ == '__main__':\n",
        "    app.run(debug=True)\n",
        "<!DOCTYPE html>\n",
        "<html>\n",
        "<head><title>Login</title></head>\n",
        "<body>\n",
        "    <h1>Login Page (from auth blueprint)</h1>\n",
        "</body>\n",
        "</html>\n"
      ],
      "metadata": {
        "id": "j2E38meTZtiu"
      },
      "execution_count": null,
      "outputs": []
    },
    {
      "cell_type": "markdown",
      "metadata": {
        "id": "Fu6lCNi5s1Iq"
      },
      "source": [
        "**12.  How do you define a custom Jinja filter in Flask?**"
      ]
    },
    {
      "cell_type": "code",
      "execution_count": null,
      "metadata": {
        "id": "xxWQ-n9hMMoV"
      },
      "outputs": [],
      "source": [
        "def reverse_string(s):\n",
        "    return s[::-1]\n",
        "from flask import Flask\n",
        "\n",
        "app = Flask(__name__)\n",
        "\n",
        "@app.template_filter('reverse')\n",
        "def reverse_string(s):\n",
        "    return s[::-1]\n",
        "app.jinja_env.filters['reverse'] = reverse_string"
      ]
    },
    {
      "cell_type": "markdown",
      "metadata": {
        "id": "iDS3OdC_s2At"
      },
      "source": [
        "**13. How can you redirect with query parameters in Flask?**"
      ]
    },
    {
      "cell_type": "code",
      "execution_count": null,
      "metadata": {
        "id": "qkU6kBJ8MQAN"
      },
      "outputs": [],
      "source": [
        "from flask import Flask, redirect, url_for, request\n",
        "\n",
        "app = Flask(__name__)\n",
        "\n",
        "@app.route('/')\n",
        "def home():\n",
        "    return redirect(url_for('greet', name='Alice', lang='en'))\n",
        "\n",
        "@app.route('/greet')\n",
        "def greet():\n",
        "    name = request.args.get('name')\n",
        "    lang = request.args.get('lang')\n",
        "    return f\"Hello {name}, language: {lang}\"\n",
        "\n",
        "if __name__ == '__main__':\n",
        "    app.run(debug=True)"
      ]
    },
    {
      "cell_type": "markdown",
      "metadata": {
        "id": "s_7I8ZYss2NY"
      },
      "source": [
        "**14. How do you return JSON responses in Flask?**"
      ]
    },
    {
      "cell_type": "code",
      "execution_count": null,
      "metadata": {
        "id": "oh12LtFyMTjv"
      },
      "outputs": [],
      "source": [
        "from flask import Flask, jsonify\n",
        "\n",
        "app = Flask(__name__)\n",
        "\n",
        "@app.route('/api/data')\n",
        "def get_data():\n",
        "    return jsonify({\n",
        "        'name': 'Alice',\n",
        "        'age': 30,\n",
        "        'status': 'active'\n",
        "    })\n",
        "\n",
        "if __name__ == '__main__':\n",
        "    app.run(debug=True)\n"
      ]
    },
    {
      "cell_type": "markdown",
      "metadata": {
        "id": "WuzZZyDHs2XO"
      },
      "source": [
        "**15. How do you capture URL parameters in Flask?**"
      ]
    },
    {
      "cell_type": "code",
      "execution_count": null,
      "metadata": {
        "id": "jt4G2rcGMXGy"
      },
      "outputs": [],
      "source": [
        "from flask import Flask\n",
        "\n",
        "app = Flask(__name__)\n",
        "\n",
        "@app.route('/user/<username>')\n",
        "def show_user(username):\n",
        "    return f'Hello, {username}!'\n"
      ]
    }
  ],
  "metadata": {
    "colab": {
      "provenance": []
    },
    "kernelspec": {
      "display_name": "Python 3",
      "name": "python3"
    },
    "language_info": {
      "name": "python"
    }
  },
  "nbformat": 4,
  "nbformat_minor": 0
}